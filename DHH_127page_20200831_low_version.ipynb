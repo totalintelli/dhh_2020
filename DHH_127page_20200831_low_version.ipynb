{
 "cells": [
  {
   "cell_type": "markdown",
   "metadata": {
    "colab_type": "text",
    "id": "vZe8oEJj2EZR"
   },
   "source": []
  },
  {
   "cell_type": "code",
   "execution_count": 1,
   "metadata": {
    "colab": {},
    "colab_type": "code",
    "id": "6Ks9_kkrCIQi"
   },
   "outputs": [],
   "source": [
    "import numpy as np\n",
    "import pandas as pd"
   ]
  },
  {
   "cell_type": "code",
   "execution_count": 2,
   "metadata": {},
   "outputs": [],
   "source": [
    "# load data\n",
    "\n",
    "dataX=pd.read_csv(\"./data/trainX.csv\")\n",
    "dataA=pd.read_csv(\"./data/trainA.csv\")\n",
    "dataY=pd.read_csv(\"./data/trainY.csv\")\n",
    "\n",
    "# remove index\n",
    "\n",
    "dataX=dataX.values[:,1:]\n",
    "dataY=dataY.values[:,1:-1]\n",
    "dataA=dataA.values[:,1:]"
   ]
  },
  {
   "cell_type": "code",
   "execution_count": 3,
   "metadata": {},
   "outputs": [],
   "source": [
    "# split cure or not cure\n",
    "치료한환자데이터=pd.read_csv(\"./data/2번 열을 제거한 치료한 환자 데이터.csv\")\n",
    "치료하지않은환자데이터=pd.read_csv(\"./data/8번 열을 제거한 치료하지 않은 환자 데이터.csv\")"
   ]
  },
  {
   "cell_type": "code",
   "execution_count": 4,
   "metadata": {
    "colab": {},
    "colab_type": "code",
    "id": "F77bYonkF8AE"
   },
   "outputs": [],
   "source": [
    "data_CY=치료한환자데이터['time']\n",
    "dataNCY=치료하지않은환자데이터['time']\n",
    "data_CX = 치료한환자데이터.loc[:,['X0','X1','X3','X4','X5','X6','X7','X8','X9','X10','X11','X12','X13','X14','X15','X16']]\n",
    "dataNCX = 치료하지않은환자데이터.loc[:,['X0','X1','X2','X3','X4','X5','X6','X7','X9','X10','X11','X12','X13','X14','X15','X16']]"
   ]
  },
  {
   "cell_type": "code",
   "execution_count": 5,
   "metadata": {
    "colab": {},
    "colab_type": "code",
    "id": "8bTfqtUGPvsq"
   },
   "outputs": [
    {
     "name": "stderr",
     "output_type": "stream",
     "text": [
      "Using TensorFlow backend.\n",
      "c:\\users\\kosta\\anaconda3\\envs\\generative\\lib\\site-packages\\tensorflow\\python\\framework\\dtypes.py:516: FutureWarning: Passing (type, 1) or '1type' as a synonym of type is deprecated; in a future version of numpy, it will be understood as (type, (1,)) / '(1,)type'.\n",
      "  _np_qint8 = np.dtype([(\"qint8\", np.int8, 1)])\n",
      "c:\\users\\kosta\\anaconda3\\envs\\generative\\lib\\site-packages\\tensorflow\\python\\framework\\dtypes.py:517: FutureWarning: Passing (type, 1) or '1type' as a synonym of type is deprecated; in a future version of numpy, it will be understood as (type, (1,)) / '(1,)type'.\n",
      "  _np_quint8 = np.dtype([(\"quint8\", np.uint8, 1)])\n",
      "c:\\users\\kosta\\anaconda3\\envs\\generative\\lib\\site-packages\\tensorflow\\python\\framework\\dtypes.py:518: FutureWarning: Passing (type, 1) or '1type' as a synonym of type is deprecated; in a future version of numpy, it will be understood as (type, (1,)) / '(1,)type'.\n",
      "  _np_qint16 = np.dtype([(\"qint16\", np.int16, 1)])\n",
      "c:\\users\\kosta\\anaconda3\\envs\\generative\\lib\\site-packages\\tensorflow\\python\\framework\\dtypes.py:519: FutureWarning: Passing (type, 1) or '1type' as a synonym of type is deprecated; in a future version of numpy, it will be understood as (type, (1,)) / '(1,)type'.\n",
      "  _np_quint16 = np.dtype([(\"quint16\", np.uint16, 1)])\n",
      "c:\\users\\kosta\\anaconda3\\envs\\generative\\lib\\site-packages\\tensorflow\\python\\framework\\dtypes.py:520: FutureWarning: Passing (type, 1) or '1type' as a synonym of type is deprecated; in a future version of numpy, it will be understood as (type, (1,)) / '(1,)type'.\n",
      "  _np_qint32 = np.dtype([(\"qint32\", np.int32, 1)])\n",
      "c:\\users\\kosta\\anaconda3\\envs\\generative\\lib\\site-packages\\tensorflow\\python\\framework\\dtypes.py:525: FutureWarning: Passing (type, 1) or '1type' as a synonym of type is deprecated; in a future version of numpy, it will be understood as (type, (1,)) / '(1,)type'.\n",
      "  np_resource = np.dtype([(\"resource\", np.ubyte, 1)])\n",
      "c:\\users\\kosta\\anaconda3\\envs\\generative\\lib\\site-packages\\tensorboard\\compat\\tensorflow_stub\\dtypes.py:541: FutureWarning: Passing (type, 1) or '1type' as a synonym of type is deprecated; in a future version of numpy, it will be understood as (type, (1,)) / '(1,)type'.\n",
      "  _np_qint8 = np.dtype([(\"qint8\", np.int8, 1)])\n",
      "c:\\users\\kosta\\anaconda3\\envs\\generative\\lib\\site-packages\\tensorboard\\compat\\tensorflow_stub\\dtypes.py:542: FutureWarning: Passing (type, 1) or '1type' as a synonym of type is deprecated; in a future version of numpy, it will be understood as (type, (1,)) / '(1,)type'.\n",
      "  _np_quint8 = np.dtype([(\"quint8\", np.uint8, 1)])\n",
      "c:\\users\\kosta\\anaconda3\\envs\\generative\\lib\\site-packages\\tensorboard\\compat\\tensorflow_stub\\dtypes.py:543: FutureWarning: Passing (type, 1) or '1type' as a synonym of type is deprecated; in a future version of numpy, it will be understood as (type, (1,)) / '(1,)type'.\n",
      "  _np_qint16 = np.dtype([(\"qint16\", np.int16, 1)])\n",
      "c:\\users\\kosta\\anaconda3\\envs\\generative\\lib\\site-packages\\tensorboard\\compat\\tensorflow_stub\\dtypes.py:544: FutureWarning: Passing (type, 1) or '1type' as a synonym of type is deprecated; in a future version of numpy, it will be understood as (type, (1,)) / '(1,)type'.\n",
      "  _np_quint16 = np.dtype([(\"quint16\", np.uint16, 1)])\n",
      "c:\\users\\kosta\\anaconda3\\envs\\generative\\lib\\site-packages\\tensorboard\\compat\\tensorflow_stub\\dtypes.py:545: FutureWarning: Passing (type, 1) or '1type' as a synonym of type is deprecated; in a future version of numpy, it will be understood as (type, (1,)) / '(1,)type'.\n",
      "  _np_qint32 = np.dtype([(\"qint32\", np.int32, 1)])\n",
      "c:\\users\\kosta\\anaconda3\\envs\\generative\\lib\\site-packages\\tensorboard\\compat\\tensorflow_stub\\dtypes.py:550: FutureWarning: Passing (type, 1) or '1type' as a synonym of type is deprecated; in a future version of numpy, it will be understood as (type, (1,)) / '(1,)type'.\n",
      "  np_resource = np.dtype([(\"resource\", np.ubyte, 1)])\n"
     ]
    }
   ],
   "source": [
    "from keras import models\n",
    "from keras import layers"
   ]
  },
  {
   "cell_type": "code",
   "execution_count": 9,
   "metadata": {
    "colab": {},
    "colab_type": "code",
    "id": "Poq3AzwFsLZ9"
   },
   "outputs": [],
   "source": [
    "import tensorflow as tf"
   ]
  },
  {
   "cell_type": "code",
   "execution_count": 30,
   "metadata": {},
   "outputs": [],
   "source": [
    "def build_dnn_relu_adam():\n",
    "  # 2. 모델의 구조를 BatchNormalization layer를 사용하여 만든다.\n",
    "  X = tf.keras.layers.Input(shape=[16])\n",
    "  \n",
    "  H = tf.keras.layers.Dense(64)(X)\n",
    "  H = tf.keras.layers.BatchNormalization()(H)\n",
    "  H = tf.keras.layers.Activation('relu')(H) # Hidden layer 1\n",
    "  \n",
    "  H = tf.keras.layers.Dense(64)(H)\n",
    "  H = tf.keras.layers.BatchNormalization()(H)\n",
    "  H = tf.keras.layers.Activation('relu')(H) # Hidden layer 2\n",
    "  \n",
    "  H = tf.keras.layers.Dense(64)(H)\n",
    "  H = tf.keras.layers.BatchNormalization()(H)\n",
    "  H = tf.keras.layers.Activation('relu')(H) # Hidden layer 3\n",
    "\n",
    "  H = tf.keras.layers.Dense(64)(H)\n",
    "  H = tf.keras.layers.BatchNormalization()(H)\n",
    "  H = tf.keras.layers.Activation('relu')(H) # Hidden layer 4\n",
    "\n",
    "  H = tf.keras.layers.Dense(64)(H)\n",
    "  H = tf.keras.layers.BatchNormalization()(H)\n",
    "  H = tf.keras.layers.Activation('relu')(H) # Hidden layer 5\n",
    "\n",
    "  H = tf.keras.layers.Dense(64)(H)\n",
    "  H = tf.keras.layers.BatchNormalization()(H)\n",
    "  H = tf.keras.layers.Activation('relu')(H) # Hidden layer 6\n",
    "\n",
    "  H = tf.keras.layers.Dense(64)(H)\n",
    "  H = tf.keras.layers.BatchNormalization()(H)\n",
    "  H = tf.keras.layers.Activation('relu')(H) # Hidden layer 7\n",
    "    \n",
    "  H = tf.keras.layers.Dense(64)(H)\n",
    "  H = tf.keras.layers.BatchNormalization()(H)\n",
    "  H = tf.keras.layers.Activation('relu')(H) # Hidden layer 8\n",
    "\n",
    "  H = tf.keras.layers.Dense(64)(H)\n",
    "  H = tf.keras.layers.BatchNormalization()(H)\n",
    "  H = tf.keras.layers.Activation('relu')(H) # Hidden layer 9\n",
    "\n",
    "  H = tf.keras.layers.Dense(64)(H)\n",
    "  H = tf.keras.layers.BatchNormalization()(H)\n",
    "  H = tf.keras.layers.Activation('relu')(H) # Hidden layer 10\n",
    "\n",
    "  Y = tf.keras.layers.Dense(1)(H)\n",
    "  model = tf.keras.models.Model(X, Y)\n",
    "  model.compile(loss='mse', optimizer='adam', metrics=[tf.keras.metrics.Accuracy()])\n",
    "  return model\n",
    "\n",
    "def build_model_NC_100_stepper():\n",
    "  # 2. 모델의 구조를 BatchNormalization layer를 사용하여 만든다.\n",
    "  X = tf.keras.layers.Input(shape=[16])\n",
    "  \n",
    "  H = tf.keras.layers.Dense(2048)(X)\n",
    "  H = tf.keras.layers.BatchNormalization()(H)\n",
    "  H = tf.keras.layers.Activation('swish')(H)\n",
    "  \n",
    "  H = tf.keras.layers.Dense(1024)(H)\n",
    "  H = tf.keras.layers.BatchNormalization()(H)\n",
    "  H = tf.keras.layers.Activation('swish')(H)\n",
    "  \n",
    "  H = tf.keras.layers.Dense(512)(H)\n",
    "  H = tf.keras.layers.BatchNormalization()(H)\n",
    "  H = tf.keras.layers.Activation('swish')(H)\n",
    "\n",
    "  H = tf.keras.layers.Dense(256)(H)\n",
    "  H = tf.keras.layers.BatchNormalization()(H)\n",
    "  H = tf.keras.layers.Activation('swish')(H)\n",
    "\n",
    "  H = tf.keras.layers.Dense(128)(H)\n",
    "  H = tf.keras.layers.BatchNormalization()(H)\n",
    "  H = tf.keras.layers.Activation('swish')(H)\n",
    "  \n",
    "  Y = tf.keras.layers.Dense(1)(H)\n",
    "  model = tf.keras.models.Model(X, Y)\n",
    "  model.compile(loss='mse', optimizer='adam', metrics=[tf.keras.metrics.Accuracy()])\n",
    "  return model"
   ]
  },
  {
   "cell_type": "code",
   "execution_count": 31,
   "metadata": {
    "scrolled": false
   },
   "outputs": [
    {
     "name": "stdout",
     "output_type": "stream",
     "text": [
      "처리중인 폴드 # 0\n"
     ]
    },
    {
     "ename": "KeyError",
     "evalue": "'val_mean_absolute_error'",
     "output_type": "error",
     "traceback": [
      "\u001b[1;31m---------------------------------------------------------------------------\u001b[0m",
      "\u001b[1;31mKeyError\u001b[0m                                  Traceback (most recent call last)",
      "\u001b[1;32m<ipython-input-31-943204d2b80c>\u001b[0m in \u001b[0;36m<module>\u001b[1;34m\u001b[0m\n\u001b[0;32m     26\u001b[0m                         \u001b[0mvalidation_data\u001b[0m\u001b[1;33m=\u001b[0m\u001b[1;33m(\u001b[0m\u001b[0mval_data\u001b[0m\u001b[1;33m,\u001b[0m \u001b[0mval_targets\u001b[0m\u001b[1;33m)\u001b[0m\u001b[1;33m,\u001b[0m\u001b[1;33m\u001b[0m\u001b[1;33m\u001b[0m\u001b[0m\n\u001b[0;32m     27\u001b[0m                         epochs=num_epochs, batch_size=1, verbose=0)\n\u001b[1;32m---> 28\u001b[1;33m     \u001b[0mmae_history\u001b[0m \u001b[1;33m=\u001b[0m \u001b[0mhistory\u001b[0m\u001b[1;33m.\u001b[0m\u001b[0mhistory\u001b[0m\u001b[1;33m[\u001b[0m\u001b[1;34m'val_mean_absolute_error'\u001b[0m\u001b[1;33m]\u001b[0m\u001b[1;33m\u001b[0m\u001b[1;33m\u001b[0m\u001b[0m\n\u001b[0m\u001b[0;32m     29\u001b[0m     \u001b[0mall_mae_histories\u001b[0m\u001b[1;33m.\u001b[0m\u001b[0mappend\u001b[0m\u001b[1;33m(\u001b[0m\u001b[0mmae_history\u001b[0m\u001b[1;33m)\u001b[0m\u001b[1;33m\u001b[0m\u001b[1;33m\u001b[0m\u001b[0m\n",
      "\u001b[1;31mKeyError\u001b[0m: 'val_mean_absolute_error'"
     ]
    }
   ],
   "source": [
    "# 치료 데이터\n",
    "num_epochs = 1000\n",
    "all_mae_histories = []\n",
    "k = 4\n",
    "num_val_samples = len(data_CX) // k\n",
    "for i in range(k):\n",
    "    print('처리중인 폴드 #', i)\n",
    "    # 검증 데이터 준비: k번째 분할\n",
    "    val_data = data_CX[i * num_val_samples: (i + 1) * num_val_samples]\n",
    "    val_targets = data_CY[i * num_val_samples: (i + 1) * num_val_samples]\n",
    "\n",
    "    # 훈련 데이터 준비: 다른 분할 전체\n",
    "    partial_train_data = np.concatenate(\n",
    "        [data_CX[:i * num_val_samples],\n",
    "         data_CX[(i + 1) * num_val_samples:]],\n",
    "        axis=0)\n",
    "    partial_train_targets = np.concatenate(\n",
    "        [data_CY[:i * num_val_samples],\n",
    "         data_CY[(i + 1) * num_val_samples:]],\n",
    "        axis=0)\n",
    "\n",
    "    # 케라스 모델 구성(컴파일 포함)\n",
    "    model = build_dnn_relu_adam()\n",
    "    # 모델 훈련(verbose=0 이므로 훈련 과정이 출력되지 않습니다)\n",
    "    history = model.fit(partial_train_data, partial_train_targets,\n",
    "                        validation_data=(val_data, val_targets),\n",
    "                        epochs=num_epochs, batch_size=1, verbose=0)\n",
    "    mae_history = history.history['mean_absolute_error']\n",
    "    all_mae_histories.append(mae_history)"
   ]
  },
  {
   "cell_type": "code",
   "execution_count": null,
   "metadata": {},
   "outputs": [],
   "source": [
    "# 치료하지 않은 데이터\n",
    "num_epochs = 2000\n",
    "all_mae_histories_non_cured = []\n",
    "k = 4\n",
    "num_val_samples = len(dataNCX) // k\n",
    "for i in range(k):\n",
    "    print('처리중인 폴드 #', i)\n",
    "    # 검증 데이터 준비: k번째 분할\n",
    "    val_data = dataNCX[i * num_val_samples: (i + 1) * num_val_samples]\n",
    "    val_targets = dataNCY[i * num_val_samples: (i + 1) * num_val_samples]\n",
    "\n",
    "    # 훈련 데이터 준비: 다른 분할 전체\n",
    "    partial_train_data = np.concatenate(\n",
    "        [dataNCX[:i * num_val_samples],\n",
    "         dataNCX[(i + 1) * num_val_samples:]],\n",
    "        axis=0)\n",
    "    partial_train_targets = np.concatenate(\n",
    "        [dataNCY[:i * num_val_samples],\n",
    "         dataNCY[(i + 1) * num_val_samples:]],\n",
    "        axis=0)\n",
    "\n",
    "    # 케라스 모델 구성(컴파일 포함)\n",
    "    model = build_dnn_swish_adam()\n",
    "    # 모델 훈련(verbose=0 이므로 훈련 과정이 출력되지 않습니다)\n",
    "    history = model.fit(partial_train_data, partial_train_targets,\n",
    "                        validation_data=(val_data, val_targets),\n",
    "                        epochs=num_epochs, batch_size=1, verbose=0)\n",
    "    mae_history_non_cured = history.history['mean_absolute_error']\n",
    "    all_mae_histories_non_cured.append(mae_history)"
   ]
  },
  {
   "cell_type": "code",
   "execution_count": null,
   "metadata": {
    "colab": {},
    "colab_type": "code",
    "id": "0oeHzl4DXr4P"
   },
   "outputs": [],
   "source": [
    "# 3.데이터로 모델을 학습(FIT)합니다.\n",
    "model = build_dnn_relu_adam() # 최저 loss 값 : 0.0492\n",
    "model.fit(data_CX, data_CY, epochs=20000, verbose=0)\n",
    "model.fit(data_CX, data_CY, epochs=1, verbose=1)"
   ]
  },
  {
   "cell_type": "code",
   "execution_count": null,
   "metadata": {
    "colab": {
     "base_uri": "https://localhost:8080/",
     "height": 386
    },
    "colab_type": "code",
    "id": "kzsyJB09b3t6",
    "outputId": "801dfd98-ec7d-4f5d-97cb-fefbf54ef5b4"
   },
   "outputs": [],
   "source": [
    "# 3.치료하지 않았고 생존시간이 100 이하인 환자 데이터로 모델을 학습(FIT)합니다.\n",
    "model_NC = build_dnn_relu_adam() # 최저 loss 값 : 0.0267\n",
    "model.fit(data_CX, data_CY, epochs=20000, verbose=0)\n",
    "model.fit(data_CX, data_CY, epochs=1, verbose=1)"
   ]
  },
  {
   "cell_type": "code",
   "execution_count": null,
   "metadata": {
    "colab": {
     "base_uri": "https://localhost:8080/",
     "height": 34
    },
    "colab_type": "code",
    "id": "B6OBWoPGHuWw",
    "outputId": "a53a20ec-daaa-497f-d427-9bde00b08329"
   },
   "outputs": [],
   "source": [
    "치료_환자_파일경로 = './data/2번 열을 제거한 치료한 환자 테스트 데이터.csv'\n",
    "비치료_환자_파일경로 = './data/8번 열을 제거한 치료하지 않은 환자 테스트 데이터.csv'\n",
    "치료_환자_데이터 = pd.read_csv(치료_환자_파일경로)\n",
    "비치료_환자_데이터 = pd.read_csv(비치료_환자_파일경로)"
   ]
  },
  {
   "cell_type": "code",
   "execution_count": null,
   "metadata": {
    "colab": {
     "base_uri": "https://localhost:8080/",
     "height": 34
    },
    "colab_type": "code",
    "id": "iEzT2ja2IWrd",
    "outputId": "699e3367-7e90-4bc5-c92a-3c1339be05d0"
   },
   "outputs": [],
   "source": [
    "# 치료할 경우 생존 시간을 구한다.\n",
    "cured = model.predict(치료_환자_데이터)\n",
    "# 치료하지 않을 경우 생존 시간을 구한다.\n",
    "non_cured = model_NC.predict(비치료_환자_데이터)\n",
    "\n",
    "# 치료한 경우 생존 시간 > 치료하지 않은 경우 생존 시간 : 1, \n",
    "# 치료한 경우 생존 시간 > 치료하지 않은 경우 생존 시간 : 0\n",
    "result = np.where(cured > non_cured, 1, 0)\n",
    "print(result.shape)"
   ]
  },
  {
   "cell_type": "code",
   "execution_count": null,
   "metadata": {
    "colab": {},
    "colab_type": "code",
    "id": "xdWBw8y0NZMB"
   },
   "outputs": [],
   "source": [
    "import csv \n",
    "\n",
    "# 이차원 리스트 \n",
    "with open('./data/result_20200902_1.csv','w', newline='') as f: \n",
    "  makewrite = csv.writer(f) \n",
    "  \n",
    "  for value in result: \n",
    "    makewrite.writerow(value)\n"
   ]
  },
  {
   "cell_type": "code",
   "execution_count": null,
   "metadata": {},
   "outputs": [],
   "source": []
  }
 ],
 "metadata": {
  "accelerator": "GPU",
  "colab": {
   "collapsed_sections": [
    "6psrzIaDlwAq"
   ],
   "name": "DHH 127page_20200825.ipynb",
   "provenance": []
  },
  "kernelspec": {
   "display_name": "Python 3",
   "language": "python",
   "name": "python3"
  },
  "language_info": {
   "codemirror_mode": {
    "name": "ipython",
    "version": 3
   },
   "file_extension": ".py",
   "mimetype": "text/x-python",
   "name": "python",
   "nbconvert_exporter": "python",
   "pygments_lexer": "ipython3",
   "version": "3.6.10"
  }
 },
 "nbformat": 4,
 "nbformat_minor": 1
}
